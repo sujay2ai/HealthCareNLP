{
  "nbformat": 4,
  "nbformat_minor": 0,
  "metadata": {
    "colab": {
      "name": "Tensorflow & Keras.ipynb",
      "provenance": [],
      "collapsed_sections": [],
      "authorship_tag": "ABX9TyPf2rPAu5QoOyq2sN3tse0m",
      "include_colab_link": true
    },
    "kernelspec": {
      "name": "python3",
      "display_name": "Python 3"
    },
    "language_info": {
      "name": "python"
    }
  },
  "cells": [
    {
      "cell_type": "markdown",
      "metadata": {
        "id": "view-in-github",
        "colab_type": "text"
      },
      "source": [
        "<a href=\"https://colab.research.google.com/github/VitikaJain25/HealthCareNLPCourse/blob/main/Tensorflow_%26_Keras.ipynb\" target=\"_parent\"><img src=\"https://colab.research.google.com/assets/colab-badge.svg\" alt=\"Open In Colab\"/></a>"
      ]
    },
    {
      "cell_type": "code",
      "execution_count": 1,
      "metadata": {
        "id": "iGfmNaACukev"
      },
      "outputs": [],
      "source": [
        "# Tensorflow is Deep Learning Package.\n",
        "import tensorflow as tf\n",
        "# Keras is based on Tensorflow & it supports high end APIs.\n",
        "import tensorflow.keras as keras"
      ]
    },
    {
      "cell_type": "markdown",
      "source": [
        "# Tensor is N-Dimentional representation of array of data for various ranks like scalar:tensor(Rank 0), vector:tensor(Rank 1), Matrix(Rank 2), Tensor(3 or More).\n"
      ],
      "metadata": {
        "id": "GrrSnioovMi-"
      }
    },
    {
      "cell_type": "code",
      "source": [
        "# Creating a constant of scalar type\n",
        "# scalar with tensor rank = 0, shape =0, dtype = int32 bits\n",
        "# numpy indicates the value.\n",
        "tf.constant(10)"
      ],
      "metadata": {
        "colab": {
          "base_uri": "https://localhost:8080/"
        },
        "id": "X-OPIc3Pu87n",
        "outputId": "749ec2e5-f6a5-4f0e-dabd-dbeb685ab0b6"
      },
      "execution_count": 2,
      "outputs": [
        {
          "output_type": "execute_result",
          "data": {
            "text/plain": [
              "<tf.Tensor: shape=(), dtype=int32, numpy=10>"
            ]
          },
          "metadata": {},
          "execution_count": 2
        }
      ]
    },
    {
      "cell_type": "code",
      "source": [
        "# scalar with tensor rank = 0, shape = 0, dtype = int8 (-128 to 127)\n",
        "const_1 = tf.constant(127, dtype = 'int8')\n",
        "print(const_1)"
      ],
      "metadata": {
        "colab": {
          "base_uri": "https://localhost:8080/"
        },
        "id": "gWZEI6UcwZSc",
        "outputId": "ecae7ac7-1680-427f-f841-80f297d194e7"
      },
      "execution_count": 3,
      "outputs": [
        {
          "output_type": "stream",
          "name": "stdout",
          "text": [
            "tf.Tensor(127, shape=(), dtype=int8)\n"
          ]
        }
      ]
    },
    {
      "cell_type": "code",
      "source": [
        "const_1.numpy()"
      ],
      "metadata": {
        "colab": {
          "base_uri": "https://localhost:8080/"
        },
        "id": "PuANmA0AxQiT",
        "outputId": "f8130216-1374-4369-af25-1dd239e54166"
      },
      "execution_count": 4,
      "outputs": [
        {
          "output_type": "execute_result",
          "data": {
            "text/plain": [
              "127"
            ]
          },
          "metadata": {},
          "execution_count": 4
        }
      ]
    },
    {
      "cell_type": "code",
      "source": [
        "# Shows the tensor shape\n",
        "const_1.shape"
      ],
      "metadata": {
        "colab": {
          "base_uri": "https://localhost:8080/"
        },
        "id": "rSkMV0eOxT_z",
        "outputId": "ac79c20a-107e-42ca-ec5b-a229f480a3b0"
      },
      "execution_count": 5,
      "outputs": [
        {
          "output_type": "execute_result",
          "data": {
            "text/plain": [
              "TensorShape([])"
            ]
          },
          "metadata": {},
          "execution_count": 5
        }
      ]
    },
    {
      "cell_type": "markdown",
      "source": [
        "## Vectors"
      ],
      "metadata": {
        "id": "bYLH6faVxgRB"
      }
    },
    {
      "cell_type": "code",
      "source": [
        "# Vector with Rank = 1\n",
        "const_2 = tf.constant([20., 40., 60., 80., 15], dtype = 'float16')\n",
        "print(const_2)"
      ],
      "metadata": {
        "colab": {
          "base_uri": "https://localhost:8080/"
        },
        "id": "7KQ2ey9Vxjmn",
        "outputId": "6553221d-4792-4733-f59f-c839134de4a2"
      },
      "execution_count": 6,
      "outputs": [
        {
          "output_type": "stream",
          "name": "stdout",
          "text": [
            "tf.Tensor([20. 40. 60. 80. 15.], shape=(5,), dtype=float16)\n"
          ]
        }
      ]
    },
    {
      "cell_type": "code",
      "source": [
        "# tensor rank = 1\n",
        "const_2.shape"
      ],
      "metadata": {
        "colab": {
          "base_uri": "https://localhost:8080/"
        },
        "id": "dgkHQloPx4-6",
        "outputId": "f26ea36e-e9de-4d81-b937-e34d1d2351d0"
      },
      "execution_count": 7,
      "outputs": [
        {
          "output_type": "execute_result",
          "data": {
            "text/plain": [
              "TensorShape([5])"
            ]
          },
          "metadata": {},
          "execution_count": 7
        }
      ]
    },
    {
      "cell_type": "code",
      "source": [
        "const_3 = tf.constant([20, 40, 60, 80, 15], dtype = 'int16')\n",
        "print(const_3)"
      ],
      "metadata": {
        "colab": {
          "base_uri": "https://localhost:8080/"
        },
        "id": "uSlOgd3LyRnK",
        "outputId": "fd02df1c-5b27-4252-842d-af0a58b3368d"
      },
      "execution_count": 8,
      "outputs": [
        {
          "output_type": "stream",
          "name": "stdout",
          "text": [
            "tf.Tensor([20 40 60 80 15], shape=(5,), dtype=int16)\n"
          ]
        }
      ]
    },
    {
      "cell_type": "code",
      "source": [
        "# Changing / Typecasting the data type.\n",
        "tf.cast(const_3, dtype = 'int32')"
      ],
      "metadata": {
        "colab": {
          "base_uri": "https://localhost:8080/"
        },
        "id": "dtO4mQ00yl9C",
        "outputId": "efbcbd83-29fd-4463-c627-28c50590ac4f"
      },
      "execution_count": 9,
      "outputs": [
        {
          "output_type": "execute_result",
          "data": {
            "text/plain": [
              "<tf.Tensor: shape=(5,), dtype=int32, numpy=array([20, 40, 60, 80, 15], dtype=int32)>"
            ]
          },
          "metadata": {},
          "execution_count": 9
        }
      ]
    },
    {
      "cell_type": "code",
      "source": [
        "# Typecasting from one tensor data type to another.\n",
        "tf.cast(const_3, dtype = 'float32')"
      ],
      "metadata": {
        "colab": {
          "base_uri": "https://localhost:8080/"
        },
        "id": "euQ04biFzCYf",
        "outputId": "4ce88aa3-efde-41ad-9546-4920a5bbd584"
      },
      "execution_count": 10,
      "outputs": [
        {
          "output_type": "execute_result",
          "data": {
            "text/plain": [
              "<tf.Tensor: shape=(5,), dtype=float32, numpy=array([20., 40., 60., 80., 15.], dtype=float32)>"
            ]
          },
          "metadata": {},
          "execution_count": 10
        }
      ]
    },
    {
      "cell_type": "markdown",
      "source": [
        "## Tensor Matrix"
      ],
      "metadata": {
        "id": "ELIczztczMo1"
      }
    },
    {
      "cell_type": "code",
      "source": [
        "# Vector with rank = 2\n",
        "const_4 = tf.constant([[220, 120, 260],\n",
        "                      [112, 150, 190],\n",
        "                      [220, 240, 180]], dtype = 'int16')\n",
        "print(const_4)"
      ],
      "metadata": {
        "colab": {
          "base_uri": "https://localhost:8080/"
        },
        "id": "Hpj_keMlzRd1",
        "outputId": "98980d8a-b3f2-40a6-ff10-57560311d227"
      },
      "execution_count": 11,
      "outputs": [
        {
          "output_type": "stream",
          "name": "stdout",
          "text": [
            "tf.Tensor(\n",
            "[[220 120 260]\n",
            " [112 150 190]\n",
            " [220 240 180]], shape=(3, 3), dtype=int16)\n"
          ]
        }
      ]
    },
    {
      "cell_type": "code",
      "source": [
        "const_4.shape"
      ],
      "metadata": {
        "colab": {
          "base_uri": "https://localhost:8080/"
        },
        "id": "UAszbi7k0Mk7",
        "outputId": "00f050b6-d848-4922-9bc9-2f9315401739"
      },
      "execution_count": 12,
      "outputs": [
        {
          "output_type": "execute_result",
          "data": {
            "text/plain": [
              "TensorShape([3, 3])"
            ]
          },
          "metadata": {},
          "execution_count": 12
        }
      ]
    },
    {
      "cell_type": "code",
      "source": [
        "const_4.numpy()"
      ],
      "metadata": {
        "colab": {
          "base_uri": "https://localhost:8080/"
        },
        "id": "ZPSlzQTE0PDB",
        "outputId": "adbe32e1-d00e-48dd-95b5-bba5a4bc4550"
      },
      "execution_count": 13,
      "outputs": [
        {
          "output_type": "execute_result",
          "data": {
            "text/plain": [
              "array([[220, 120, 260],\n",
              "       [112, 150, 190],\n",
              "       [220, 240, 180]], dtype=int16)"
            ]
          },
          "metadata": {},
          "execution_count": 13
        }
      ]
    },
    {
      "cell_type": "markdown",
      "source": [
        "## Tensor N-D Array"
      ],
      "metadata": {
        "id": "GSa85enJ0VUR"
      }
    },
    {
      "cell_type": "code",
      "source": [
        "const_5 = tf.constant([[[220, 120, 260],\n",
        "                      [112, 150, 190],\n",
        "                      [220, 240, 180]],\n",
        "                      [[220, 120, 260],\n",
        "                      [112, 150, 190],\n",
        "                      [220, 240, 180]]], dtype = 'int16')\n",
        "print (const_5)"
      ],
      "metadata": {
        "colab": {
          "base_uri": "https://localhost:8080/"
        },
        "id": "SWTAKE3n0YwL",
        "outputId": "81c54312-0892-45c5-c347-d2f84f278b25"
      },
      "execution_count": 14,
      "outputs": [
        {
          "output_type": "stream",
          "name": "stdout",
          "text": [
            "tf.Tensor(\n",
            "[[[220 120 260]\n",
            "  [112 150 190]\n",
            "  [220 240 180]]\n",
            "\n",
            " [[220 120 260]\n",
            "  [112 150 190]\n",
            "  [220 240 180]]], shape=(2, 3, 3), dtype=int16)\n"
          ]
        }
      ]
    },
    {
      "cell_type": "markdown",
      "source": [
        "### Variable Declaration"
      ],
      "metadata": {
        "id": "rQAt6MDc1c7y"
      }
    },
    {
      "cell_type": "code",
      "source": [
        "var_1 = tf.Variable(10, dtype = 'int8')\n",
        "print(var_1)"
      ],
      "metadata": {
        "colab": {
          "base_uri": "https://localhost:8080/"
        },
        "id": "92UmTHdP1NcI",
        "outputId": "90cbc0fc-7c9e-4a83-d40f-9a294803c17c"
      },
      "execution_count": 15,
      "outputs": [
        {
          "output_type": "stream",
          "name": "stdout",
          "text": [
            "<tf.Variable 'Variable:0' shape=() dtype=int8, numpy=10>\n"
          ]
        }
      ]
    },
    {
      "cell_type": "code",
      "source": [
        "# To access the value\n",
        "var_1.numpy()"
      ],
      "metadata": {
        "colab": {
          "base_uri": "https://localhost:8080/"
        },
        "id": "TzEpUSQQ1s4s",
        "outputId": "adfeb053-c5a5-4565-fb61-d9266c5e806b"
      },
      "execution_count": 16,
      "outputs": [
        {
          "output_type": "execute_result",
          "data": {
            "text/plain": [
              "10"
            ]
          },
          "metadata": {},
          "execution_count": 16
        }
      ]
    },
    {
      "cell_type": "code",
      "source": [
        "var_2 = tf.Variable([2., 4., 5., 7., 11., 15.], dtype = 'float16')\n",
        "print(var_2)"
      ],
      "metadata": {
        "colab": {
          "base_uri": "https://localhost:8080/"
        },
        "id": "48h0Zb8u1yDj",
        "outputId": "39489a6b-bdb2-482a-e2bb-ea99ab882abd"
      },
      "execution_count": 17,
      "outputs": [
        {
          "output_type": "stream",
          "name": "stdout",
          "text": [
            "<tf.Variable 'Variable:0' shape=(6,) dtype=float16, numpy=array([ 2.,  4.,  5.,  7., 11., 15.], dtype=float16)>\n"
          ]
        }
      ]
    },
    {
      "cell_type": "code",
      "source": [
        "var_3 = tf.Variable([[[220, 120, 260],\n",
        "                      [112, 150, 190],\n",
        "                      [220, 240, 180]],\n",
        "                      [[220, 120, 260],\n",
        "                      [112, 150, 190],\n",
        "                      [220, 240, 180]]], dtype = 'int16')\n",
        "print(var_3)"
      ],
      "metadata": {
        "colab": {
          "base_uri": "https://localhost:8080/"
        },
        "id": "TcSTzxhs2GNC",
        "outputId": "6e5a0f32-4a36-4296-cb0c-eb5cb11b1948"
      },
      "execution_count": 18,
      "outputs": [
        {
          "output_type": "stream",
          "name": "stdout",
          "text": [
            "<tf.Variable 'Variable:0' shape=(2, 3, 3) dtype=int16, numpy=\n",
            "array([[[220, 120, 260],\n",
            "        [112, 150, 190],\n",
            "        [220, 240, 180]],\n",
            "\n",
            "       [[220, 120, 260],\n",
            "        [112, 150, 190],\n",
            "        [220, 240, 180]]], dtype=int16)>\n"
          ]
        }
      ]
    },
    {
      "cell_type": "markdown",
      "source": [
        " Difference between Constant and Variable - Variable can be changed."
      ],
      "metadata": {
        "id": "fZO_Keir2QJI"
      }
    },
    {
      "cell_type": "markdown",
      "source": [
        "## Mathematical Operations"
      ],
      "metadata": {
        "id": "zhHkB8Jj2Y_c"
      }
    },
    {
      "cell_type": "code",
      "source": [
        "# Y = WT * X + bias\n",
        "Weights = tf.Variable([[10],\n",
        "                      [12],\n",
        "                      [15],\n",
        "                      [9],\n",
        "                      [18],\n",
        "                      [12]], dtype = 'float16')\n",
        "print(Weights)"
      ],
      "metadata": {
        "colab": {
          "base_uri": "https://localhost:8080/"
        },
        "id": "gFbBXTHh2VUJ",
        "outputId": "b6da5cff-88d5-4403-a9c9-a7ac78fc89e6"
      },
      "execution_count": 19,
      "outputs": [
        {
          "output_type": "stream",
          "name": "stdout",
          "text": [
            "<tf.Variable 'Variable:0' shape=(6, 1) dtype=float16, numpy=\n",
            "array([[10.],\n",
            "       [12.],\n",
            "       [15.],\n",
            "       [ 9.],\n",
            "       [18.],\n",
            "       [12.]], dtype=float16)>\n"
          ]
        }
      ]
    },
    {
      "cell_type": "code",
      "source": [
        "X = tf.Variable([[10],\n",
        "                 [12],\n",
        "                 [15],\n",
        "                 [9],\n",
        "                 [18],\n",
        "                 [12]], dtype = 'float16')\n",
        "print(X)"
      ],
      "metadata": {
        "colab": {
          "base_uri": "https://localhost:8080/"
        },
        "id": "lpag9Gpv29xH",
        "outputId": "7acfd7ea-de4e-46e2-8217-ac052fa66240"
      },
      "execution_count": 20,
      "outputs": [
        {
          "output_type": "stream",
          "name": "stdout",
          "text": [
            "<tf.Variable 'Variable:0' shape=(6, 1) dtype=float16, numpy=\n",
            "array([[10.],\n",
            "       [12.],\n",
            "       [15.],\n",
            "       [ 9.],\n",
            "       [18.],\n",
            "       [12.]], dtype=float16)>\n"
          ]
        }
      ]
    },
    {
      "cell_type": "code",
      "source": [
        "# Shape for Weights and X is 6x1. We cannot multiply these unless we Transpose.\n",
        "WT = tf.transpose(Weights)\n",
        "print(WT)"
      ],
      "metadata": {
        "colab": {
          "base_uri": "https://localhost:8080/"
        },
        "id": "VUbgVy-83OMl",
        "outputId": "bcac8e2d-f42d-42be-e8a8-37396058d8b7"
      },
      "execution_count": 21,
      "outputs": [
        {
          "output_type": "stream",
          "name": "stdout",
          "text": [
            "tf.Tensor([[10. 12. 15.  9. 18. 12.]], shape=(1, 6), dtype=float16)\n"
          ]
        }
      ]
    },
    {
      "cell_type": "code",
      "source": [
        "# Y = W * X\n",
        "tf.tensordot(X, WT, axes = 1)"
      ],
      "metadata": {
        "colab": {
          "base_uri": "https://localhost:8080/"
        },
        "id": "Bvu8G_143vHp",
        "outputId": "0208aac6-a69c-4f20-ff35-616e65259b68"
      },
      "execution_count": 22,
      "outputs": [
        {
          "output_type": "execute_result",
          "data": {
            "text/plain": [
              "<tf.Tensor: shape=(6, 6), dtype=float16, numpy=\n",
              "array([[100., 120., 150.,  90., 180., 120.],\n",
              "       [120., 144., 180., 108., 216., 144.],\n",
              "       [150., 180., 225., 135., 270., 180.],\n",
              "       [ 90., 108., 135.,  81., 162., 108.],\n",
              "       [180., 216., 270., 162., 324., 216.],\n",
              "       [120., 144., 180., 108., 216., 144.]], dtype=float16)>"
            ]
          },
          "metadata": {},
          "execution_count": 22
        }
      ]
    },
    {
      "cell_type": "code",
      "source": [
        "# Y = WT * X\n",
        "tf.tensordot(WT, X, axes = 1)"
      ],
      "metadata": {
        "colab": {
          "base_uri": "https://localhost:8080/"
        },
        "id": "YnL6a7Zk3_zp",
        "outputId": "eb822ba2-5def-470a-afe8-7380d0487d98"
      },
      "execution_count": 23,
      "outputs": [
        {
          "output_type": "execute_result",
          "data": {
            "text/plain": [
              "<tf.Tensor: shape=(1, 1), dtype=float16, numpy=array([[1018.]], dtype=float16)>"
            ]
          },
          "metadata": {},
          "execution_count": 23
        }
      ]
    },
    {
      "cell_type": "markdown",
      "source": [
        "### Using Keras - Deep Learning API"
      ],
      "metadata": {
        "id": "gsSqdMhy4Qmg"
      }
    },
    {
      "cell_type": "code",
      "source": [
        "import tensorflow.keras as keras\n",
        "keras.__version__"
      ],
      "metadata": {
        "colab": {
          "base_uri": "https://localhost:8080/",
          "height": 37
        },
        "id": "a9jbxesv4OqQ",
        "outputId": "9c6543fe-8ce1-44fa-8ec4-65e67abc7424"
      },
      "execution_count": 24,
      "outputs": [
        {
          "output_type": "execute_result",
          "data": {
            "text/plain": [
              "'2.8.0'"
            ],
            "application/vnd.google.colaboratory.intrinsic+json": {
              "type": "string"
            }
          },
          "metadata": {},
          "execution_count": 24
        }
      ]
    },
    {
      "cell_type": "code",
      "source": [
        "# Dense Neural Network\n",
        "from tensorflow.keras.layers import Dense\n",
        "# Sequential Connection of Neural Network\n",
        "from tensorflow.keras.models import Sequential\n",
        "# Optimizers\n",
        "from tensorflow.keras.optimizers import RMSprop"
      ],
      "metadata": {
        "id": "capI0I654qXs"
      },
      "execution_count": 25,
      "outputs": []
    },
    {
      "cell_type": "code",
      "source": [
        "# input shape = number of features\n",
        "# units = number of neurons\n",
        "# number of neurons in input layer (4) is lower than number of neurons in hidden layer (8).\n",
        "# using relu activation function for input and hidden layer\n",
        "\n",
        "def build_model():\n",
        "  # Sequential Neural Network - FeedForward Neural Network\n",
        "  model = Sequential()\n",
        "  model.add(Dense(units = 4, activation = 'relu', input_shape = [3]))\n",
        "  # Hidden layer - 1\n",
        "  model.add(Dense(units = 8, activation = 'relu'))\n",
        "  # Output Layer - For Regression\n",
        "  model.add(Dense(units = 1))\n",
        "  # Model Compiler\n",
        "  model.compile(loss = 'mean_squared_error', optimizer = 'RMSprop', metrics = ['mean_squared_error',\n",
        "                                                                                'mean_absolute_error'])\n",
        "  return model"
      ],
      "metadata": {
        "id": "ky_IKmox5OHz"
      },
      "execution_count": 26,
      "outputs": []
    },
    {
      "cell_type": "code",
      "source": [
        "model = build_model()"
      ],
      "metadata": {
        "id": "n3pOL28_6sHB"
      },
      "execution_count": 27,
      "outputs": []
    },
    {
      "cell_type": "code",
      "source": [
        "model.summary()"
      ],
      "metadata": {
        "colab": {
          "base_uri": "https://localhost:8080/"
        },
        "id": "Zujl7Ydl60KD",
        "outputId": "edc2cd2f-ef27-4ab5-c8e7-14296c1416a5"
      },
      "execution_count": 28,
      "outputs": [
        {
          "output_type": "stream",
          "name": "stdout",
          "text": [
            "Model: \"sequential\"\n",
            "_________________________________________________________________\n",
            " Layer (type)                Output Shape              Param #   \n",
            "=================================================================\n",
            " dense (Dense)               (None, 4)                 16        \n",
            "                                                                 \n",
            " dense_1 (Dense)             (None, 8)                 40        \n",
            "                                                                 \n",
            " dense_2 (Dense)             (None, 1)                 9         \n",
            "                                                                 \n",
            "=================================================================\n",
            "Total params: 65\n",
            "Trainable params: 65\n",
            "Non-trainable params: 0\n",
            "_________________________________________________________________\n"
          ]
        }
      ]
    },
    {
      "cell_type": "code",
      "source": [
        "# Parameters = Total number of weights and biases."
      ],
      "metadata": {
        "id": "xpPL7yRs9L8B"
      },
      "execution_count": null,
      "outputs": []
    }
  ]
}